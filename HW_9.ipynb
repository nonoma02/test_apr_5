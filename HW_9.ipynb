{
 "cells": [
  {
   "attachments": {
    "image.png": {
     "image/png": "[encoded data removed]"
    }
   },
   "cell_type": "markdown",
   "id": "4dc0acf2",
   "metadata": {},
   "source": [
    "![image.png](attachment:image.png)"
   ]
  },
  {
   "cell_type": "code",
   "execution_count": 1,
   "id": "b2c4766d",
   "metadata": {},
   "outputs": [
    {
     "name": "stdout",
     "output_type": "stream",
     "text": [
      "Enter the size of list:3\n",
      "Enter number for listA at index 0 :\n",
      "3\n",
      "Enter number for listA at index 1 :\n",
      "2\n",
      "Enter number for listA at index 2 :\n",
      "1\n",
      "Enter number for listB at index  0 :\n",
      "1\n",
      "Enter number for listB at index  1 :\n",
      "2\n",
      "Enter number for listB at index  2 :\n",
      "3\n",
      "The result is:  10\n"
     ]
    }
   ],
   "source": [
    "size = int(input(\"Enter the size of list:\"))\n",
    "\n",
    "listA = [0] * size   # List A\n",
    "listB = [0] * size   # List B\n",
    "\n",
    "for i in range(size):\n",
    "    print(\"Enter number for listA at index\", i, \":\" )\n",
    "    item = int(input())\n",
    "\n",
    "    listA[i] = item\n",
    "    \n",
    "    \n",
    "for i in range(size):\n",
    "    print(\"Enter number for listB at index \", i, \":\" )\n",
    "    item = int(input())\n",
    "\n",
    "    listB[i] = item\n",
    "\n",
    "result = 0\n",
    "for i in range(size):\n",
    "    result += listA[i] * listB[i]\n",
    "\n",
    "print(\"The result is: \", result)\n"
   ]
  },
  {
   "cell_type": "code",
   "execution_count": 2,
   "id": "b678f91a",
   "metadata": {},
   "outputs": [
    {
     "name": "stdout",
     "output_type": "stream",
     "text": [
      "Enter the size of list: 4\n",
      "Enter number for listA at index 0: 2\n",
      "Enter number for listA at index 1: 3\n",
      "Enter number for listA at index 2: 4\n",
      "Enter number for listA at index 3: 5\n",
      "Enter number for listB at index 0: 1\n",
      "Enter number for listB at index 1: 1\n",
      "Enter number for listB at index 2: 1\n",
      "Enter number for listB at index 3: 1\n",
      "The result is: 14\n"
     ]
    }
   ],
   "source": [
    "import numpy as numpy\n",
    "\n",
    "size = int(input(\"Enter the size of list: \"))\n",
    "\n",
    "listA = numpy.zeros(size, dtype=int)\n",
    "listB = numpy.zeros(size, dtype=int)\n",
    "\n",
    "for i in range(size):\n",
    "    item = int(input(\"Enter number for listA at index {}: \".format(i)))\n",
    "    listA[i] = item\n",
    "\n",
    "for i in range(size):\n",
    "    item = int(input(\"Enter number for listB at index {}: \".format(i)))\n",
    "    listB[i] = item\n",
    "\n",
    "result = numpy.dot(listA, listB)\n",
    "\n",
    "print(\"The result is:\", result)\n"
   ]
  },
  {
   "cell_type": "code",
   "execution_count": null,
   "id": "51354e88",
   "metadata": {},
   "outputs": [],
   "source": []
  },
  {
   "cell_type": "code",
   "execution_count": null,
   "id": "b04fefea",
   "metadata": {},
   "outputs": [],
   "source": []
  }
 ],
 "metadata": {
  "kernelspec": {
   "display_name": "Python 3 (ipykernel)",
   "language": "python",
   "name": "python3"
  },
  "language_info": {
   "codemirror_mode": {
    "name": "ipython",
    "version": 3
   },
   "file_extension": ".py",
   "mimetype": "text/x-python",
   "name": "python",
   "nbconvert_exporter": "python",
   "pygments_lexer": "ipython3",
   "version": "3.10.9"
  }
 },
 "nbformat": 4,
 "nbformat_minor": 5
}
